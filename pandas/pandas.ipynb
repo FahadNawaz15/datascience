{
 "cells": [
  {
   "cell_type": "markdown",
   "metadata": {},
   "source": [
    "# Input capabilities"
   ]
  },
  {
   "cell_type": "code",
   "execution_count": 30,
   "metadata": {},
   "outputs": [
    {
     "data": {
      "text/html": [
       "<div>\n",
       "<style scoped>\n",
       "    .dataframe tbody tr th:only-of-type {\n",
       "        vertical-align: middle;\n",
       "    }\n",
       "\n",
       "    .dataframe tbody tr th {\n",
       "        vertical-align: top;\n",
       "    }\n",
       "\n",
       "    .dataframe thead th {\n",
       "        text-align: right;\n",
       "    }\n",
       "</style>\n",
       "<table border=\"1\" class=\"dataframe\">\n",
       "  <thead>\n",
       "    <tr style=\"text-align: right;\">\n",
       "      <th></th>\n",
       "      <th>artist</th>\n",
       "      <th>title</th>\n",
       "      <th>medium</th>\n",
       "      <th>year</th>\n",
       "      <th>width</th>\n",
       "      <th>height</th>\n",
       "    </tr>\n",
       "    <tr>\n",
       "      <th>id</th>\n",
       "      <th></th>\n",
       "      <th></th>\n",
       "      <th></th>\n",
       "      <th></th>\n",
       "      <th></th>\n",
       "      <th></th>\n",
       "    </tr>\n",
       "  </thead>\n",
       "  <tbody>\n",
       "    <tr>\n",
       "      <th>1035</th>\n",
       "      <td>Blake, Robert</td>\n",
       "      <td>A Figure Bowing before a Seated Old Man with h...</td>\n",
       "      <td>Watercolour, ink, chalk and graphite on paper....</td>\n",
       "      <td>NaN</td>\n",
       "      <td>394.0</td>\n",
       "      <td>419.0</td>\n",
       "    </tr>\n",
       "    <tr>\n",
       "      <th>1036</th>\n",
       "      <td>Blake, Robert</td>\n",
       "      <td>Two Drawings of Frightened Figures, Probably f...</td>\n",
       "      <td>Graphite on paper</td>\n",
       "      <td>NaN</td>\n",
       "      <td>311.0</td>\n",
       "      <td>213.0</td>\n",
       "    </tr>\n",
       "    <tr>\n",
       "      <th>1037</th>\n",
       "      <td>Blake, Robert</td>\n",
       "      <td>The Preaching of Warning. Verso: An Old Man En...</td>\n",
       "      <td>Graphite on paper. Verso: graphite on paper</td>\n",
       "      <td>1785.0</td>\n",
       "      <td>343.0</td>\n",
       "      <td>467.0</td>\n",
       "    </tr>\n",
       "    <tr>\n",
       "      <th>1038</th>\n",
       "      <td>Blake, Robert</td>\n",
       "      <td>Six Drawings of Figures with Outstretched Arms</td>\n",
       "      <td>Graphite on paper</td>\n",
       "      <td>NaN</td>\n",
       "      <td>318.0</td>\n",
       "      <td>394.0</td>\n",
       "    </tr>\n",
       "    <tr>\n",
       "      <th>1039</th>\n",
       "      <td>Blake, William</td>\n",
       "      <td>The Circle of the Lustful: Francesca da Rimini...</td>\n",
       "      <td>Line engraving on paper</td>\n",
       "      <td>1826.0</td>\n",
       "      <td>243.0</td>\n",
       "      <td>335.0</td>\n",
       "    </tr>\n",
       "  </tbody>\n",
       "</table>\n",
       "</div>"
      ],
      "text/plain": [
       "              artist                                              title  \\\n",
       "id                                                                        \n",
       "1035   Blake, Robert  A Figure Bowing before a Seated Old Man with h...   \n",
       "1036   Blake, Robert  Two Drawings of Frightened Figures, Probably f...   \n",
       "1037   Blake, Robert  The Preaching of Warning. Verso: An Old Man En...   \n",
       "1038   Blake, Robert     Six Drawings of Figures with Outstretched Arms   \n",
       "1039  Blake, William  The Circle of the Lustful: Francesca da Rimini...   \n",
       "\n",
       "                                                 medium    year  width  height  \n",
       "id                                                                              \n",
       "1035  Watercolour, ink, chalk and graphite on paper....     NaN  394.0   419.0  \n",
       "1036                                  Graphite on paper     NaN  311.0   213.0  \n",
       "1037        Graphite on paper. Verso: graphite on paper  1785.0  343.0   467.0  \n",
       "1038                                  Graphite on paper     NaN  318.0   394.0  \n",
       "1039                            Line engraving on paper  1826.0  243.0   335.0  "
      ]
     },
     "execution_count": 30,
     "metadata": {},
     "output_type": "execute_result"
    }
   ],
   "source": [
    "import pandas as pd\n",
    "\n",
    "df = pd.read_csv('data/artwork.csv', \n",
    "                 nrows = 50, \n",
    "                 index_col='id',\n",
    "                 usecols=['id', 'artist', 'title', 'medium', 'year', 'height', 'width'])\n",
    "df.head()"
   ]
  },
  {
   "cell_type": "code",
   "execution_count": 16,
   "metadata": {},
   "outputs": [],
   "source": [
    "# save for later\n",
    "df.to_pickle('data/artwork.pickle')"
   ]
  },
  {
   "cell_type": "markdown",
   "metadata": {},
   "source": [
    "# Indexing and filtering"
   ]
  },
  {
   "cell_type": "code",
   "execution_count": 17,
   "metadata": {},
   "outputs": [
    {
     "data": {
      "text/plain": [
       "id\n",
       "1035    Blake, Robert\n",
       "1036    Blake, Robert\n",
       "Name: artist, dtype: object"
      ]
     },
     "execution_count": 17,
     "metadata": {},
     "output_type": "execute_result"
    }
   ],
   "source": [
    "df['artist']"
   ]
  },
  {
   "cell_type": "code",
   "execution_count": 18,
   "metadata": {},
   "outputs": [
    {
     "data": {
      "text/plain": [
       "array(['Blake, Robert'], dtype=object)"
      ]
     },
     "execution_count": 18,
     "metadata": {},
     "output_type": "execute_result"
    }
   ],
   "source": [
    "pd.unique(df['artist'])"
   ]
  },
  {
   "cell_type": "code",
   "execution_count": 21,
   "metadata": {},
   "outputs": [
    {
     "data": {
      "text/plain": [
       "True     45\n",
       "False     5\n",
       "Name: artist, dtype: int64"
      ]
     },
     "execution_count": 21,
     "metadata": {},
     "output_type": "execute_result"
    }
   ],
   "source": [
    "s = df['artist'] == 'Blake, William'\n",
    "s.value_counts()"
   ]
  },
  {
   "cell_type": "code",
   "execution_count": 25,
   "metadata": {},
   "outputs": [
    {
     "data": {
      "text/plain": [
       "'Blake, Robert'"
      ]
     },
     "execution_count": 25,
     "metadata": {},
     "output_type": "execute_result"
    }
   ],
   "source": [
    "# selecting by position\n",
    "df.loc[1035, 'artist'] # 1035 - id column!"
   ]
  },
  {
   "cell_type": "code",
   "execution_count": 26,
   "metadata": {},
   "outputs": [
    {
     "data": {
      "text/plain": [
       "'Blake, Robert'"
      ]
     },
     "execution_count": 26,
     "metadata": {},
     "output_type": "execute_result"
    }
   ],
   "source": [
    "df.iloc[0, 0]"
   ]
  },
  {
   "cell_type": "code",
   "execution_count": 27,
   "metadata": {},
   "outputs": [
    {
     "data": {
      "text/plain": [
       "artist                                        Blake, Robert\n",
       "title     A Figure Bowing before a Seated Old Man with h...\n",
       "medium    Watercolour, ink, chalk and graphite on paper....\n",
       "year                                                    NaN\n",
       "Name: 1035, dtype: object"
      ]
     },
     "execution_count": 27,
     "metadata": {},
     "output_type": "execute_result"
    }
   ],
   "source": [
    "df.iloc[0, :]"
   ]
  },
  {
   "cell_type": "code",
   "execution_count": 28,
   "metadata": {},
   "outputs": [
    {
     "data": {
      "text/html": [
       "<div>\n",
       "<style scoped>\n",
       "    .dataframe tbody tr th:only-of-type {\n",
       "        vertical-align: middle;\n",
       "    }\n",
       "\n",
       "    .dataframe tbody tr th {\n",
       "        vertical-align: top;\n",
       "    }\n",
       "\n",
       "    .dataframe thead th {\n",
       "        text-align: right;\n",
       "    }\n",
       "</style>\n",
       "<table border=\"1\" class=\"dataframe\">\n",
       "  <thead>\n",
       "    <tr style=\"text-align: right;\">\n",
       "      <th></th>\n",
       "      <th>artist</th>\n",
       "      <th>title</th>\n",
       "    </tr>\n",
       "    <tr>\n",
       "      <th>id</th>\n",
       "      <th></th>\n",
       "      <th></th>\n",
       "    </tr>\n",
       "  </thead>\n",
       "  <tbody>\n",
       "    <tr>\n",
       "      <th>1035</th>\n",
       "      <td>Blake, Robert</td>\n",
       "      <td>A Figure Bowing before a Seated Old Man with h...</td>\n",
       "    </tr>\n",
       "    <tr>\n",
       "      <th>1036</th>\n",
       "      <td>Blake, Robert</td>\n",
       "      <td>Two Drawings of Frightened Figures, Probably f...</td>\n",
       "    </tr>\n",
       "  </tbody>\n",
       "</table>\n",
       "</div>"
      ],
      "text/plain": [
       "             artist                                              title\n",
       "id                                                                    \n",
       "1035  Blake, Robert  A Figure Bowing before a Seated Old Man with h...\n",
       "1036  Blake, Robert  Two Drawings of Frightened Figures, Probably f..."
      ]
     },
     "execution_count": 28,
     "metadata": {},
     "output_type": "execute_result"
    }
   ],
   "source": [
    "df.iloc[0:2, 0:2]"
   ]
  },
  {
   "cell_type": "code",
   "execution_count": 31,
   "metadata": {},
   "outputs": [
    {
     "data": {
      "text/plain": [
       "id\n",
       "1035    165086.0\n",
       "1036     66243.0\n",
       "1037    160181.0\n",
       "1038    125292.0\n",
       "1039     81405.0\n",
       "1040     81120.0\n",
       "1041     80828.0\n",
       "1042     83640.0\n",
       "1043     80735.0\n",
       "1044     82620.0\n",
       "1045     80240.0\n",
       "1046     27600.0\n",
       "1047     29747.0\n",
       "1048     30141.0\n",
       "1049     30400.0\n",
       "1050     30096.0\n",
       "1051     30294.0\n",
       "1052     30294.0\n",
       "1053     29850.0\n",
       "1054     30096.0\n",
       "1055     30096.0\n",
       "1056     29944.0\n",
       "1057     30200.0\n",
       "1058     29898.0\n",
       "1059     28650.0\n",
       "1060     30200.0\n",
       "1061     27900.0\n",
       "1062     30200.0\n",
       "1063     29700.0\n",
       "1064     29550.0\n",
       "1065     30049.0\n",
       "1066     29204.0\n",
       "1067    189832.0\n",
       "1068     15272.0\n",
       "1069     10864.0\n",
       "1070     10864.0\n",
       "1071      9085.0\n",
       "1072      7680.0\n",
       "1073      7680.0\n",
       "1074    130950.0\n",
       "1075     81291.0\n",
       "1076     24766.0\n",
       "1077    214625.0\n",
       "1078    120600.0\n",
       "1079    147030.0\n",
       "1080    119232.0\n",
       "1081    153906.0\n",
       "1082    187960.0\n",
       "1083    213350.0\n",
       "1183     33598.0\n",
       "dtype: float64"
      ]
     },
     "execution_count": 31,
     "metadata": {},
     "output_type": "execute_result"
    }
   ],
   "source": [
    "# manipulation\n",
    "df['height'] * df['width']"
   ]
  },
  {
   "cell_type": "code",
   "execution_count": 33,
   "metadata": {},
   "outputs": [
    {
     "data": {
      "text/plain": [
       "id\n",
       "1068     92.0\n",
       "1070    112.0\n",
       "1069    112.0\n",
       "1071    115.0\n",
       "1073    120.0\n",
       "Name: width, dtype: float64"
      ]
     },
     "execution_count": 33,
     "metadata": {},
     "output_type": "execute_result"
    }
   ],
   "source": [
    "df['width'].sort_values().head()"
   ]
  },
  {
   "cell_type": "code",
   "execution_count": 35,
   "metadata": {},
   "outputs": [
    {
     "data": {
      "text/plain": [
       "id\n",
       "1035    394.0\n",
       "1036    311.0\n",
       "1037    343.0\n",
       "Name: width, dtype: float64"
      ]
     },
     "execution_count": 35,
     "metadata": {},
     "output_type": "execute_result"
    }
   ],
   "source": [
    "# convert\n",
    "pd.to_numeric(df['width']).head(3)"
   ]
  },
  {
   "cell_type": "markdown",
   "metadata": {},
   "source": [
    "# Operations on groups"
   ]
  },
  {
   "cell_type": "code",
   "execution_count": 38,
   "metadata": {},
   "outputs": [
    {
     "name": "stdout",
     "output_type": "stream",
     "text": [
      "Blake, Robert\n",
      "             artist                                              title  \\\n",
      "id                                                                       \n",
      "1035  Blake, Robert  A Figure Bowing before a Seated Old Man with h...   \n",
      "1036  Blake, Robert  Two Drawings of Frightened Figures, Probably f...   \n",
      "1037  Blake, Robert  The Preaching of Warning. Verso: An Old Man En...   \n",
      "1038  Blake, Robert     Six Drawings of Figures with Outstretched Arms   \n",
      "\n",
      "                                                 medium    year  width  height  \n",
      "id                                                                              \n",
      "1035  Watercolour, ink, chalk and graphite on paper....     NaN  394.0   419.0  \n",
      "1036                                  Graphite on paper     NaN  311.0   213.0  \n",
      "1037        Graphite on paper. Verso: graphite on paper  1785.0  343.0   467.0  \n",
      "1038                                  Graphite on paper     NaN  318.0   394.0  \n"
     ]
    }
   ],
   "source": [
    "grouped = df.groupby('artist')\n",
    "for name, group_df in grouped:\n",
    "    print(name)\n",
    "    print(group_df)\n",
    "    break"
   ]
  },
  {
   "cell_type": "code",
   "execution_count": null,
   "metadata": {},
   "outputs": [],
   "source": []
  }
 ],
 "metadata": {
  "kernelspec": {
   "display_name": "Python 3",
   "language": "python",
   "name": "python3"
  },
  "language_info": {
   "codemirror_mode": {
    "name": "ipython",
    "version": 3
   },
   "file_extension": ".py",
   "mimetype": "text/x-python",
   "name": "python",
   "nbconvert_exporter": "python",
   "pygments_lexer": "ipython3",
   "version": "3.7.4"
  }
 },
 "nbformat": 4,
 "nbformat_minor": 2
}
